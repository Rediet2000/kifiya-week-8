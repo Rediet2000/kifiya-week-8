{
 "cells": [
  {
   "cell_type": "code",
   "execution_count": 2,
   "metadata": {},
   "outputs": [
    {
     "name": "stdout",
     "output_type": "stream",
     "text": [
      "Requirement already satisfied: mlflow in c:\\users\\rediet.solomon\\documents\\kifiya-week-8\\venv\\lib\\site-packages (2.17.0)\n",
      "Requirement already satisfied: mlflow-skinny==2.17.0 in c:\\users\\rediet.solomon\\documents\\kifiya-week-8\\venv\\lib\\site-packages (from mlflow) (2.17.0)\n",
      "Requirement already satisfied: Flask<4 in c:\\users\\rediet.solomon\\documents\\kifiya-week-8\\venv\\lib\\site-packages (from mlflow) (3.0.3)\n",
      "Requirement already satisfied: alembic!=1.10.0,<2 in c:\\users\\rediet.solomon\\documents\\kifiya-week-8\\venv\\lib\\site-packages (from mlflow) (1.13.3)\n",
      "Requirement already satisfied: docker<8,>=4.0.0 in c:\\users\\rediet.solomon\\documents\\kifiya-week-8\\venv\\lib\\site-packages (from mlflow) (7.1.0)\n",
      "Requirement already satisfied: graphene<4 in c:\\users\\rediet.solomon\\documents\\kifiya-week-8\\venv\\lib\\site-packages (from mlflow) (3.4)\n",
      "Requirement already satisfied: markdown<4,>=3.3 in c:\\users\\rediet.solomon\\documents\\kifiya-week-8\\venv\\lib\\site-packages (from mlflow) (3.7)\n",
      "Requirement already satisfied: matplotlib<4 in c:\\users\\rediet.solomon\\documents\\kifiya-week-8\\venv\\lib\\site-packages (from mlflow) (3.9.2)\n",
      "Requirement already satisfied: numpy<3 in c:\\users\\rediet.solomon\\documents\\kifiya-week-8\\venv\\lib\\site-packages (from mlflow) (2.1.2)\n",
      "Requirement already satisfied: pandas<3 in c:\\users\\rediet.solomon\\documents\\kifiya-week-8\\venv\\lib\\site-packages (from mlflow) (2.2.3)\n",
      "Requirement already satisfied: pyarrow<18,>=4.0.0 in c:\\users\\rediet.solomon\\documents\\kifiya-week-8\\venv\\lib\\site-packages (from mlflow) (17.0.0)\n",
      "Requirement already satisfied: scikit-learn<2 in c:\\users\\rediet.solomon\\documents\\kifiya-week-8\\venv\\lib\\site-packages (from mlflow) (1.5.2)\n",
      "Requirement already satisfied: scipy<2 in c:\\users\\rediet.solomon\\documents\\kifiya-week-8\\venv\\lib\\site-packages (from mlflow) (1.14.1)\n",
      "Requirement already satisfied: sqlalchemy<3,>=1.4.0 in c:\\users\\rediet.solomon\\documents\\kifiya-week-8\\venv\\lib\\site-packages (from mlflow) (2.0.36)\n",
      "Requirement already satisfied: Jinja2<4,>=3.0 in c:\\users\\rediet.solomon\\documents\\kifiya-week-8\\venv\\lib\\site-packages (from mlflow) (3.1.4)\n",
      "Requirement already satisfied: waitress<4 in c:\\users\\rediet.solomon\\documents\\kifiya-week-8\\venv\\lib\\site-packages (from mlflow) (3.0.0)\n",
      "Requirement already satisfied: cachetools<6,>=5.0.0 in c:\\users\\rediet.solomon\\documents\\kifiya-week-8\\venv\\lib\\site-packages (from mlflow-skinny==2.17.0->mlflow) (5.5.0)\n",
      "Requirement already satisfied: click<9,>=7.0 in c:\\users\\rediet.solomon\\documents\\kifiya-week-8\\venv\\lib\\site-packages (from mlflow-skinny==2.17.0->mlflow) (8.1.7)\n",
      "Requirement already satisfied: cloudpickle<4 in c:\\users\\rediet.solomon\\documents\\kifiya-week-8\\venv\\lib\\site-packages (from mlflow-skinny==2.17.0->mlflow) (3.1.0)\n",
      "Requirement already satisfied: databricks-sdk<1,>=0.20.0 in c:\\users\\rediet.solomon\\documents\\kifiya-week-8\\venv\\lib\\site-packages (from mlflow-skinny==2.17.0->mlflow) (0.35.0)\n",
      "Requirement already satisfied: gitpython<4,>=3.1.9 in c:\\users\\rediet.solomon\\documents\\kifiya-week-8\\venv\\lib\\site-packages (from mlflow-skinny==2.17.0->mlflow) (3.1.43)\n",
      "Requirement already satisfied: importlib-metadata!=4.7.0,<9,>=3.7.0 in c:\\users\\rediet.solomon\\documents\\kifiya-week-8\\venv\\lib\\site-packages (from mlflow-skinny==2.17.0->mlflow) (8.4.0)\n",
      "Requirement already satisfied: opentelemetry-api<3,>=1.9.0 in c:\\users\\rediet.solomon\\documents\\kifiya-week-8\\venv\\lib\\site-packages (from mlflow-skinny==2.17.0->mlflow) (1.27.0)\n",
      "Requirement already satisfied: opentelemetry-sdk<3,>=1.9.0 in c:\\users\\rediet.solomon\\documents\\kifiya-week-8\\venv\\lib\\site-packages (from mlflow-skinny==2.17.0->mlflow) (1.27.0)\n",
      "Requirement already satisfied: packaging<25 in c:\\users\\rediet.solomon\\documents\\kifiya-week-8\\venv\\lib\\site-packages (from mlflow-skinny==2.17.0->mlflow) (24.1)\n",
      "Requirement already satisfied: protobuf<6,>=3.12.0 in c:\\users\\rediet.solomon\\documents\\kifiya-week-8\\venv\\lib\\site-packages (from mlflow-skinny==2.17.0->mlflow) (5.28.2)\n",
      "Requirement already satisfied: pyyaml<7,>=5.1 in c:\\users\\rediet.solomon\\documents\\kifiya-week-8\\venv\\lib\\site-packages (from mlflow-skinny==2.17.0->mlflow) (6.0.2)\n",
      "Requirement already satisfied: requests<3,>=2.17.3 in c:\\users\\rediet.solomon\\documents\\kifiya-week-8\\venv\\lib\\site-packages (from mlflow-skinny==2.17.0->mlflow) (2.32.3)\n",
      "Requirement already satisfied: sqlparse<1,>=0.4.0 in c:\\users\\rediet.solomon\\documents\\kifiya-week-8\\venv\\lib\\site-packages (from mlflow-skinny==2.17.0->mlflow) (0.5.1)\n",
      "Requirement already satisfied: Mako in c:\\users\\rediet.solomon\\documents\\kifiya-week-8\\venv\\lib\\site-packages (from alembic!=1.10.0,<2->mlflow) (1.3.5)\n",
      "Requirement already satisfied: typing-extensions>=4 in c:\\users\\rediet.solomon\\documents\\kifiya-week-8\\venv\\lib\\site-packages (from alembic!=1.10.0,<2->mlflow) (4.12.2)\n",
      "Requirement already satisfied: pywin32>=304 in c:\\users\\rediet.solomon\\documents\\kifiya-week-8\\venv\\lib\\site-packages (from docker<8,>=4.0.0->mlflow) (308)\n",
      "Requirement already satisfied: urllib3>=1.26.0 in c:\\users\\rediet.solomon\\documents\\kifiya-week-8\\venv\\lib\\site-packages (from docker<8,>=4.0.0->mlflow) (2.2.3)\n",
      "Requirement already satisfied: Werkzeug>=3.0.0 in c:\\users\\rediet.solomon\\documents\\kifiya-week-8\\venv\\lib\\site-packages (from Flask<4->mlflow) (3.0.4)\n",
      "Requirement already satisfied: itsdangerous>=2.1.2 in c:\\users\\rediet.solomon\\documents\\kifiya-week-8\\venv\\lib\\site-packages (from Flask<4->mlflow) (2.2.0)\n",
      "Requirement already satisfied: blinker>=1.6.2 in c:\\users\\rediet.solomon\\documents\\kifiya-week-8\\venv\\lib\\site-packages (from Flask<4->mlflow) (1.8.2)\n",
      "Requirement already satisfied: graphql-core<3.3,>=3.1 in c:\\users\\rediet.solomon\\documents\\kifiya-week-8\\venv\\lib\\site-packages (from graphene<4->mlflow) (3.2.5)\n",
      "Requirement already satisfied: graphql-relay<3.3,>=3.1 in c:\\users\\rediet.solomon\\documents\\kifiya-week-8\\venv\\lib\\site-packages (from graphene<4->mlflow) (3.2.0)\n",
      "Requirement already satisfied: MarkupSafe>=2.0 in c:\\users\\rediet.solomon\\documents\\kifiya-week-8\\venv\\lib\\site-packages (from Jinja2<4,>=3.0->mlflow) (3.0.1)\n",
      "Requirement already satisfied: contourpy>=1.0.1 in c:\\users\\rediet.solomon\\documents\\kifiya-week-8\\venv\\lib\\site-packages (from matplotlib<4->mlflow) (1.3.0)\n",
      "Requirement already satisfied: cycler>=0.10 in c:\\users\\rediet.solomon\\documents\\kifiya-week-8\\venv\\lib\\site-packages (from matplotlib<4->mlflow) (0.12.1)\n",
      "Requirement already satisfied: fonttools>=4.22.0 in c:\\users\\rediet.solomon\\documents\\kifiya-week-8\\venv\\lib\\site-packages (from matplotlib<4->mlflow) (4.54.1)\n",
      "Requirement already satisfied: kiwisolver>=1.3.1 in c:\\users\\rediet.solomon\\documents\\kifiya-week-8\\venv\\lib\\site-packages (from matplotlib<4->mlflow) (1.4.7)\n",
      "Requirement already satisfied: pillow>=8 in c:\\users\\rediet.solomon\\documents\\kifiya-week-8\\venv\\lib\\site-packages (from matplotlib<4->mlflow) (11.0.0)\n",
      "Requirement already satisfied: pyparsing>=2.3.1 in c:\\users\\rediet.solomon\\documents\\kifiya-week-8\\venv\\lib\\site-packages (from matplotlib<4->mlflow) (3.2.0)\n",
      "Requirement already satisfied: python-dateutil>=2.7 in c:\\users\\rediet.solomon\\documents\\kifiya-week-8\\venv\\lib\\site-packages (from matplotlib<4->mlflow) (2.9.0.post0)\n",
      "Requirement already satisfied: pytz>=2020.1 in c:\\users\\rediet.solomon\\documents\\kifiya-week-8\\venv\\lib\\site-packages (from pandas<3->mlflow) (2024.2)\n",
      "Requirement already satisfied: tzdata>=2022.7 in c:\\users\\rediet.solomon\\documents\\kifiya-week-8\\venv\\lib\\site-packages (from pandas<3->mlflow) (2024.2)\n",
      "Requirement already satisfied: joblib>=1.2.0 in c:\\users\\rediet.solomon\\documents\\kifiya-week-8\\venv\\lib\\site-packages (from scikit-learn<2->mlflow) (1.4.2)\n",
      "Requirement already satisfied: threadpoolctl>=3.1.0 in c:\\users\\rediet.solomon\\documents\\kifiya-week-8\\venv\\lib\\site-packages (from scikit-learn<2->mlflow) (3.5.0)\n",
      "Requirement already satisfied: greenlet!=0.4.17 in c:\\users\\rediet.solomon\\documents\\kifiya-week-8\\venv\\lib\\site-packages (from sqlalchemy<3,>=1.4.0->mlflow) (3.1.1)\n",
      "Requirement already satisfied: colorama in c:\\users\\rediet.solomon\\documents\\kifiya-week-8\\venv\\lib\\site-packages (from click<9,>=7.0->mlflow-skinny==2.17.0->mlflow) (0.4.6)\n",
      "Requirement already satisfied: google-auth~=2.0 in c:\\users\\rediet.solomon\\documents\\kifiya-week-8\\venv\\lib\\site-packages (from databricks-sdk<1,>=0.20.0->mlflow-skinny==2.17.0->mlflow) (2.35.0)\n",
      "Requirement already satisfied: gitdb<5,>=4.0.1 in c:\\users\\rediet.solomon\\documents\\kifiya-week-8\\venv\\lib\\site-packages (from gitpython<4,>=3.1.9->mlflow-skinny==2.17.0->mlflow) (4.0.11)\n",
      "Requirement already satisfied: zipp>=0.5 in c:\\users\\rediet.solomon\\documents\\kifiya-week-8\\venv\\lib\\site-packages (from importlib-metadata!=4.7.0,<9,>=3.7.0->mlflow-skinny==2.17.0->mlflow) (3.20.2)\n",
      "Requirement already satisfied: deprecated>=1.2.6 in c:\\users\\rediet.solomon\\documents\\kifiya-week-8\\venv\\lib\\site-packages (from opentelemetry-api<3,>=1.9.0->mlflow-skinny==2.17.0->mlflow) (1.2.14)\n",
      "Requirement already satisfied: opentelemetry-semantic-conventions==0.48b0 in c:\\users\\rediet.solomon\\documents\\kifiya-week-8\\venv\\lib\\site-packages (from opentelemetry-sdk<3,>=1.9.0->mlflow-skinny==2.17.0->mlflow) (0.48b0)\n",
      "Requirement already satisfied: six>=1.5 in c:\\users\\rediet.solomon\\documents\\kifiya-week-8\\venv\\lib\\site-packages (from python-dateutil>=2.7->matplotlib<4->mlflow) (1.16.0)\n",
      "Requirement already satisfied: charset-normalizer<4,>=2 in c:\\users\\rediet.solomon\\documents\\kifiya-week-8\\venv\\lib\\site-packages (from requests<3,>=2.17.3->mlflow-skinny==2.17.0->mlflow) (3.4.0)\n",
      "Requirement already satisfied: idna<4,>=2.5 in c:\\users\\rediet.solomon\\documents\\kifiya-week-8\\venv\\lib\\site-packages (from requests<3,>=2.17.3->mlflow-skinny==2.17.0->mlflow) (3.10)\n",
      "Requirement already satisfied: certifi>=2017.4.17 in c:\\users\\rediet.solomon\\documents\\kifiya-week-8\\venv\\lib\\site-packages (from requests<3,>=2.17.3->mlflow-skinny==2.17.0->mlflow) (2024.8.30)\n",
      "Requirement already satisfied: wrapt<2,>=1.10 in c:\\users\\rediet.solomon\\documents\\kifiya-week-8\\venv\\lib\\site-packages (from deprecated>=1.2.6->opentelemetry-api<3,>=1.9.0->mlflow-skinny==2.17.0->mlflow) (1.16.0)\n",
      "Requirement already satisfied: smmap<6,>=3.0.1 in c:\\users\\rediet.solomon\\documents\\kifiya-week-8\\venv\\lib\\site-packages (from gitdb<5,>=4.0.1->gitpython<4,>=3.1.9->mlflow-skinny==2.17.0->mlflow) (5.0.1)\n",
      "Requirement already satisfied: pyasn1-modules>=0.2.1 in c:\\users\\rediet.solomon\\documents\\kifiya-week-8\\venv\\lib\\site-packages (from google-auth~=2.0->databricks-sdk<1,>=0.20.0->mlflow-skinny==2.17.0->mlflow) (0.4.1)\n",
      "Requirement already satisfied: rsa<5,>=3.1.4 in c:\\users\\rediet.solomon\\documents\\kifiya-week-8\\venv\\lib\\site-packages (from google-auth~=2.0->databricks-sdk<1,>=0.20.0->mlflow-skinny==2.17.0->mlflow) (4.9)\n",
      "Requirement already satisfied: pyasn1<0.7.0,>=0.4.6 in c:\\users\\rediet.solomon\\documents\\kifiya-week-8\\venv\\lib\\site-packages (from pyasn1-modules>=0.2.1->google-auth~=2.0->databricks-sdk<1,>=0.20.0->mlflow-skinny==2.17.0->mlflow) (0.6.1)\n",
      "Note: you may need to restart the kernel to use updated packages.\n"
     ]
    }
   ],
   "source": [
    "pip install mlflow"
   ]
  },
  {
   "cell_type": "code",
   "execution_count": 3,
   "metadata": {},
   "outputs": [],
   "source": [
    "# Import necessary libraries\n",
    "import mlflow\n",
    "import mlflow.sklearn\n",
    "from sklearn import datasets\n",
    "from sklearn.model_selection import train_test_split\n",
    "from sklearn.linear_model import LogisticRegression\n",
    "from sklearn.metrics import accuracy_score\n",
    "import numpy as np"
   ]
  },
  {
   "cell_type": "code",
   "execution_count": 4,
   "metadata": {},
   "outputs": [],
   "source": [
    "# Load the iris dataset\n",
    "iris = datasets.load_iris()\n",
    "X = iris.data\n",
    "y = iris.target\n",
    "\n",
    "# Split the dataset into training and testing sets\n",
    "X_train, X_test, y_train, y_test = train_test_split(X, y, test_size=0.3, random_state=42)\n"
   ]
  },
  {
   "cell_type": "code",
   "execution_count": 5,
   "metadata": {},
   "outputs": [],
   "source": [
    "# Enable autologging\n",
    "mlflow.sklearn.autolog()"
   ]
  },
  {
   "cell_type": "code",
   "execution_count": 6,
   "metadata": {},
   "outputs": [
    {
     "name": "stdout",
     "output_type": "stream",
     "text": [
      "Accuracy: 1.0\n"
     ]
    },
    {
     "name": "stderr",
     "output_type": "stream",
     "text": [
      "2024/10/19 11:44:44 WARNING mlflow.models.model: Model logged without a signature and input example. Please set `input_example` parameter when logging the model to auto infer the model signature.\n"
     ]
    },
    {
     "name": "stdout",
     "output_type": "stream",
     "text": [
      "Run ID: 50eb41324a164671aa0fe7b3c135d02d\n"
     ]
    }
   ],
   "source": [
    "with mlflow.start_run():\n",
    "    # Model training\n",
    "    model = LogisticRegression(max_iter=100)\n",
    "    model.fit(X_train, y_train)\n",
    "\n",
    "    # Predict on the test set\n",
    "    predictions = model.predict(X_test)\n",
    "    \n",
    "    # Evaluate the model\n",
    "    accuracy = accuracy_score(y_test, predictions)\n",
    "    print(f\"Accuracy: {accuracy}\")\n",
    "\n",
    "    # Log parameters and metrics manually (optional)\n",
    "    mlflow.log_metric(\"accuracy\", accuracy)\n",
    "\n",
    "    # Log the model to MLflow\n",
    "    mlflow.sklearn.log_model(model, \"logistic_regression_model\")\n",
    "        # Log parameters\n",
    "    mlflow.log_param(\"max_iter\", 100)\n",
    "    mlflow.log_param(\"solver\", \"lbfgs\")\n",
    "\n",
    "\n",
    "    # Optionally save artifacts (like plots)\n",
    "    # Example: save confusion matrix, ROC curve, etc.\n",
    "    \n",
    "    # Print the run ID for reference\n",
    "    run_id = mlflow.active_run().info.run_id\n",
    "    print(f\"Run ID: {run_id}\")"
   ]
  },
  {
   "cell_type": "code",
   "execution_count": null,
   "metadata": {},
   "outputs": [],
   "source": []
  }
 ],
 "metadata": {
  "kernelspec": {
   "display_name": "venv",
   "language": "python",
   "name": "python3"
  },
  "language_info": {
   "codemirror_mode": {
    "name": "ipython",
    "version": 3
   },
   "file_extension": ".py",
   "mimetype": "text/x-python",
   "name": "python",
   "nbconvert_exporter": "python",
   "pygments_lexer": "ipython3",
   "version": "3.11.9"
  }
 },
 "nbformat": 4,
 "nbformat_minor": 2
}
